{
 "cells": [
  {
   "cell_type": "code",
   "execution_count": 1,
   "metadata": {},
   "outputs": [],
   "source": [
    "import pandas as pd\n",
    "import numpy as np\n",
    "from py2neo import Graph, Node, Relationship"
   ]
  },
  {
   "cell_type": "code",
   "execution_count": 2,
   "metadata": {},
   "outputs": [],
   "source": [
    "graph = Graph(uri='bolt://localhost:7687',user='neo4j', password='Data')\n",
    "tx = graph.begin()\n"
   ]
  },
  {
   "cell_type": "code",
   "execution_count": 3,
   "metadata": {},
   "outputs": [],
   "source": [
    "graph.delete_all()"
   ]
  },
  {
   "cell_type": "code",
   "execution_count": 4,
   "metadata": {},
   "outputs": [
    {
     "name": "stdout",
     "output_type": "stream",
     "text": [
      "Index(['Name'], dtype='object')\n"
     ]
    },
    {
     "data": {
      "text/html": [
       "<div>\n",
       "<style scoped>\n",
       "    .dataframe tbody tr th:only-of-type {\n",
       "        vertical-align: middle;\n",
       "    }\n",
       "\n",
       "    .dataframe tbody tr th {\n",
       "        vertical-align: top;\n",
       "    }\n",
       "\n",
       "    .dataframe thead th {\n",
       "        text-align: right;\n",
       "    }\n",
       "</style>\n",
       "<table border=\"1\" class=\"dataframe\">\n",
       "  <thead>\n",
       "    <tr style=\"text-align: right;\">\n",
       "      <th></th>\n",
       "      <th>Name</th>\n",
       "    </tr>\n",
       "  </thead>\n",
       "  <tbody>\n",
       "    <tr>\n",
       "      <th>0</th>\n",
       "      <td>A-MAQ S.A - ANALISIS DE MAQUINARIA</td>\n",
       "    </tr>\n",
       "    <tr>\n",
       "      <th>1</th>\n",
       "      <td>ACADEMIA COLOMBIANA DE CIENCIAS EXACTAS FISICA...</td>\n",
       "    </tr>\n",
       "    <tr>\n",
       "      <th>2</th>\n",
       "      <td>ACEITES Y GRASAS VEGETALES S.A - ACEGRASAS</td>\n",
       "    </tr>\n",
       "    <tr>\n",
       "      <th>3</th>\n",
       "      <td>ADMINISTRADORA COUNTRY S.A. OPERADOR CLINICA D...</td>\n",
       "    </tr>\n",
       "    <tr>\n",
       "      <th>4</th>\n",
       "      <td>AES CHIVOR &amp; CIA SCA ESP</td>\n",
       "    </tr>\n",
       "  </tbody>\n",
       "</table>\n",
       "</div>"
      ],
      "text/plain": [
       "                                                Name\n",
       "0                 A-MAQ S.A - ANALISIS DE MAQUINARIA\n",
       "1  ACADEMIA COLOMBIANA DE CIENCIAS EXACTAS FISICA...\n",
       "2         ACEITES Y GRASAS VEGETALES S.A - ACEGRASAS\n",
       "3  ADMINISTRADORA COUNTRY S.A. OPERADOR CLINICA D...\n",
       "4                           AES CHIVOR & CIA SCA ESP"
      ]
     },
     "execution_count": 4,
     "metadata": {},
     "output_type": "execute_result"
    }
   ],
   "source": [
    "df_temp = pd.read_csv('neo4j-community-4.0.0/import/university.csv', delimiter=';')\n",
    "print(df_temp.columns)\n",
    "df_temp.head()"
   ]
  },
  {
   "cell_type": "code",
   "execution_count": 5,
   "metadata": {},
   "outputs": [
    {
     "data": {
      "text/plain": [
       "<py2neo.database.Cursor at 0x7f9b43383510>"
      ]
     },
     "execution_count": 5,
     "metadata": {},
     "output_type": "execute_result"
    }
   ],
   "source": [
    "load_csv = \"\"\"\n",
    "    USING PERIODIC COMMIT 500\n",
    "    LOAD CSV WITH HEADERS FROM 'file:///grupos_colciencias.csv' AS row\n",
    "    CREATE (c:Grupo_colciencias {\n",
    "        COD_GRUPO_GR:row.COD_GRUPO_GR\n",
    "        , NME_GRUPO_GR:row.NME_GRUPO_GRNME_MUNICIPIO_GR\n",
    "        , NME_DEPARTAMENTO_GR : row.NME_DEPARTAMENTO_GR\n",
    "        , ID_AREA_CON_GR : row.ID_AREA_CON_GR\n",
    "        , NME_AREA_GR : row.NME_AREA_GR\n",
    "        , NME_GRAN_AREA_GR : row.NME_GRAN_AREA_GR\n",
    "        , NME_CLASIFICACION_GR : row.NME_CLASIFICACION_GR\n",
    "        , INST_AVAL : row.INST_AVAL\n",
    "    })\n",
    "\"\"\"\n",
    "graph.run(load_csv)"
   ]
  },
  {
   "cell_type": "code",
   "execution_count": 6,
   "metadata": {},
   "outputs": [
    {
     "data": {
      "text/plain": [
       "<py2neo.database.Cursor at 0x7f9b43415bd0>"
      ]
     },
     "execution_count": 6,
     "metadata": {},
     "output_type": "execute_result"
    }
   ],
   "source": [
    "load_csv = \"\"\"\n",
    "    USING PERIODIC COMMIT 500\n",
    "    LOAD CSV WITH HEADERS FROM 'file:///proyectos_colciencias.csv' AS row\n",
    "    CREATE (c:Proyecto_colciencias {\n",
    "        CODIGO_PROYECTO : row.CODIGO_PROYECTO\n",
    "        ,TITULO_PROYECTO : row.TITULO_PROYECTO\n",
    "        ,ENTIDAD : row.ENTIDAD\n",
    "        ,AREA_TEMATICA : row.AREA_TEMATICA\n",
    "        ,DEPARTAMENTO_ENTIDAD : row.DEPARTAMENTO_ENTIDAD\n",
    "        ,CIUDAD_ENTIDAD : row.CIUDAD_ENTIDAD\n",
    "    })\n",
    "\"\"\"\n",
    "graph.run(load_csv)"
   ]
  },
  {
   "cell_type": "code",
   "execution_count": 7,
   "metadata": {},
   "outputs": [
    {
     "data": {
      "text/plain": [
       "<py2neo.database.Cursor at 0x7f9b43383cd0>"
      ]
     },
     "execution_count": 7,
     "metadata": {},
     "output_type": "execute_result"
    }
   ],
   "source": [
    "load_csv = \"\"\"\n",
    "    USING PERIODIC COMMIT 500\n",
    "    LOAD CSV WITH HEADERS FROM 'file:///revistas_indexadas.csv' AS row\n",
    "    CREATE (c:Revistas_indexadas {\n",
    "        NRO_ISSN : row.NRO_ISSN\n",
    "        ,TITULO : row.TITULO\n",
    "        ,INST_EDITORA : row.INST_EDITORA\n",
    "        ,TXT_CLASIFICACION : row.TXT_CLASIFICACION\n",
    "        ,MUNICIPIO : row.MUNICIPIO\n",
    "        ,DEPARTAMENTO : row.DEPARTAMENTO\n",
    "    })\n",
    "\"\"\"\n",
    "graph.run(load_csv)"
   ]
  },
  {
   "cell_type": "code",
   "execution_count": 8,
   "metadata": {},
   "outputs": [
    {
     "data": {
      "text/plain": [
       "<py2neo.database.Cursor at 0x7f9b4338ef90>"
      ]
     },
     "execution_count": 8,
     "metadata": {},
     "output_type": "execute_result"
    }
   ],
   "source": [
    "load_csv = \"\"\"\n",
    "    USING PERIODIC COMMIT 500\n",
    "    LOAD CSV WITH HEADERS FROM 'file:///university.csv' AS row\n",
    "    CREATE (c:University {\n",
    "        Name : row.Name\n",
    "    })\n",
    "\"\"\"\n",
    "graph.run(load_csv)    "
   ]
  },
  {
   "cell_type": "code",
   "execution_count": 9,
   "metadata": {},
   "outputs": [
    {
     "data": {
      "text/plain": [
       "<py2neo.database.Cursor at 0x7f9b43392390>"
      ]
     },
     "execution_count": 9,
     "metadata": {},
     "output_type": "execute_result"
    }
   ],
   "source": [
    "load_csv = \"\"\"\n",
    "    USING PERIODIC COMMIT 500\n",
    "    LOAD CSV WITH HEADERS FROM 'file:///municipios.csv' AS row\n",
    "    CREATE (c:Municipios {\n",
    "        nombre : row.nombre\n",
    "        ,pais : row.pais\n",
    "    })\n",
    "\"\"\"\n",
    "graph.run(load_csv)  "
   ]
  },
  {
   "cell_type": "code",
   "execution_count": 10,
   "metadata": {},
   "outputs": [
    {
     "data": {
      "text/plain": [
       "<py2neo.database.Cursor at 0x7f9b43415c10>"
      ]
     },
     "execution_count": 10,
     "metadata": {},
     "output_type": "execute_result"
    }
   ],
   "source": [
    "create_relationships = \"\"\"\n",
    "    MATCH(gc:Grupo_colciencias),(m:Municipios)\n",
    "    WHERE gc.NME_DEPARTAMENTO_GR = m.nombre\n",
    "    CREATE (gc)-[r:FROM]->(m)\n",
    "    RETURN r\n",
    "\"\"\"\n",
    "graph.run(create_relationships)    "
   ]
  },
  {
   "cell_type": "code",
   "execution_count": 11,
   "metadata": {},
   "outputs": [
    {
     "data": {
      "text/plain": [
       "<py2neo.database.Cursor at 0x7f9b43392b10>"
      ]
     },
     "execution_count": 11,
     "metadata": {},
     "output_type": "execute_result"
    }
   ],
   "source": [
    "create_relationships = \"\"\"\n",
    "    MATCH(pc:Proyecto_colciencias),(m:Municipios)\n",
    "    WHERE pc.CIUDAD_ENTIDAD = m.nombre\n",
    "    CREATE (pc)-[r:FROM]->(m)\n",
    "    RETURN r\n",
    "\"\"\"\n",
    "graph.run(create_relationships)    "
   ]
  },
  {
   "cell_type": "code",
   "execution_count": 12,
   "metadata": {},
   "outputs": [
    {
     "data": {
      "text/plain": [
       "<py2neo.database.Cursor at 0x7f9b4338e0d0>"
      ]
     },
     "execution_count": 12,
     "metadata": {},
     "output_type": "execute_result"
    }
   ],
   "source": [
    "create_relationships = \"\"\"\n",
    "   MATCH(ri:Revistas_indexadas),(m:Municipios)\n",
    "    WHERE ri.MUNICIPIO = m.nombre\n",
    "    CREATE (ri)-[r:FROM]->(m)\n",
    "    RETURN r\n",
    "\"\"\"\n",
    "graph.run(create_relationships)    "
   ]
  },
  {
   "cell_type": "code",
   "execution_count": 13,
   "metadata": {},
   "outputs": [],
   "source": [
    "# Group data"
   ]
  },
  {
   "cell_type": "code",
   "execution_count": 14,
   "metadata": {},
   "outputs": [
    {
     "data": {
      "text/plain": [
       "<py2neo.database.Cursor at 0x7f9b43399710>"
      ]
     },
     "execution_count": 14,
     "metadata": {},
     "output_type": "execute_result"
    }
   ],
   "source": [
    "group_query = \"\"\"\n",
    "    MATCH (m:Municipios)<-[:FROM]-(gc:Grupo_colciencias)\n",
    "    WITH m.nombre as name, count(gc) AS groups_by_city\n",
    "    WHERE groups_by_city > 100\n",
    "    RETURN *\n",
    "    ORDER BY groups_by_city desc\n",
    "\"\"\"\n",
    "graph.run(group_query)    "
   ]
  },
  {
   "cell_type": "code",
   "execution_count": 15,
   "metadata": {},
   "outputs": [
    {
     "data": {
      "text/plain": [
       "<py2neo.database.Cursor at 0x7f9b4331c3d0>"
      ]
     },
     "execution_count": 15,
     "metadata": {},
     "output_type": "execute_result"
    }
   ],
   "source": [
    "university_relationship = \"\"\"\n",
    "    MATCH(ri:Revistas_indexadas),(u:University)\n",
    "    WHERE ri.INST_EDITORA = u.Name\n",
    "    CREATE (ri)-[r:BELONG_TO]->(u)\n",
    "    RETURN type(r)\n",
    "\"\"\"\n",
    "graph.run(university_relationship)"
   ]
  },
  {
   "cell_type": "code",
   "execution_count": 16,
   "metadata": {},
   "outputs": [
    {
     "data": {
      "text/plain": [
       "<py2neo.database.Cursor at 0x7f9b43399fd0>"
      ]
     },
     "execution_count": 16,
     "metadata": {},
     "output_type": "execute_result"
    }
   ],
   "source": [
    "university_relationship = \"\"\"\n",
    "    MATCH(gc:Grupo_colciencias),(u:University)\n",
    "    WHERE gc.INST_AVAL = u.Name\n",
    "    CREATE (gc)-[r:BELONG_TO]->(u)\n",
    "    RETURN type(r)\n",
    "\"\"\"\n",
    "graph.run(university_relationship)"
   ]
  },
  {
   "cell_type": "code",
   "execution_count": 17,
   "metadata": {},
   "outputs": [
    {
     "data": {
      "text/plain": [
       "<py2neo.database.Cursor at 0x7f9b43320c90>"
      ]
     },
     "execution_count": 17,
     "metadata": {},
     "output_type": "execute_result"
    }
   ],
   "source": [
    "university_relationship = \"\"\"\n",
    "    MATCH(pc:Proyecto_colciencias),(u:University)\n",
    "    WHERE pc.ENTIDAD = u.Name\n",
    "    CREATE (pc)-[r:BELONG_TO]->(u)\n",
    "    RETURN type(r)\n",
    "\"\"\"\n",
    "graph.run(university_relationship)"
   ]
  },
  {
   "cell_type": "code",
   "execution_count": null,
   "metadata": {},
   "outputs": [],
   "source": []
  },
  {
   "cell_type": "code",
   "execution_count": null,
   "metadata": {},
   "outputs": [],
   "source": []
  },
  {
   "cell_type": "code",
   "execution_count": null,
   "metadata": {},
   "outputs": [],
   "source": []
  }
 ],
 "metadata": {
  "kernelspec": {
   "display_name": "Python 3",
   "language": "python",
   "name": "python3"
  },
  "language_info": {
   "codemirror_mode": {
    "name": "ipython",
    "version": 3
   },
   "file_extension": ".py",
   "mimetype": "text/x-python",
   "name": "python",
   "nbconvert_exporter": "python",
   "pygments_lexer": "ipython3",
   "version": "3.7.5"
  }
 },
 "nbformat": 4,
 "nbformat_minor": 4
}
