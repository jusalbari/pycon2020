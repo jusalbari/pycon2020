{
 "cells": [
  {
   "cell_type": "code",
   "execution_count": 21,
   "metadata": {},
   "outputs": [],
   "source": [
    "## Packages"
   ]
  },
  {
   "cell_type": "code",
   "execution_count": 22,
   "metadata": {},
   "outputs": [],
   "source": [
    "import pandas as pd\n",
    "import numpy as np\n",
    "from py2neo import Graph, Node, Relationship"
   ]
  },
  {
   "cell_type": "code",
   "execution_count": 23,
   "metadata": {},
   "outputs": [],
   "source": [
    "## Initial Graph"
   ]
  },
  {
   "cell_type": "code",
   "execution_count": 24,
   "metadata": {},
   "outputs": [],
   "source": [
    "graph = Graph(uri='bolt://localhost:7687',user='neo4j', password='Data')\n",
    "tx = graph.begin()\n"
   ]
  },
  {
   "cell_type": "code",
   "execution_count": 25,
   "metadata": {},
   "outputs": [],
   "source": [
    "# graph.delete_all()"
   ]
  },
  {
   "cell_type": "code",
   "execution_count": 26,
   "metadata": {},
   "outputs": [],
   "source": [
    "node1 = Node(\"Node_type_1\", name=\"Node 1\", attr2=\"value_attr2\")\n",
    "node2 = Node(\"Node_type_1\", name=\"Node 2\")\n",
    "node3 = Node(\"Node_type_1\", name=\"Node 3\", attr4=\"value_attr4\")\n",
    "node4 = Node(\"Node_type_1\", name=\"Node 4\", attr4=44)\n",
    "\n",
    "edgeA = Relationship(node1,\"Edge_A\",node2)\n",
    "edgeB = Relationship(node1,\"Edge_B\",node3)\n",
    "edgeC = Relationship(node2,\"Edge_C\",node1)\n",
    "edgeD = Relationship(node2,\"Edge_D\",node3)\n",
    "edgeE = Relationship(node3,\"Edge_E\",node1)\n",
    "edgeF = Relationship(node3,\"Edge_F\",node2)\n",
    "\n",
    "graph.create(node1 | node2 | node3 | edgeA | edgeB | edgeC | edgeD | edgeD | edgeE |  edgeF)    "
   ]
  },
  {
   "cell_type": "code",
   "execution_count": 27,
   "metadata": {},
   "outputs": [],
   "source": [
    "# Matching results: "
   ]
  },
  {
   "cell_type": "code",
   "execution_count": 28,
   "metadata": {},
   "outputs": [],
   "source": [
    "# Get a py2neo table"
   ]
  },
  {
   "cell_type": "code",
   "execution_count": 29,
   "metadata": {},
   "outputs": [
    {
     "data": {
      "text/html": [
       "<table><tr><th>n1</th><th>n2</th></tr><tr><td style=\"text-align:left\">(_3:Node_type_1 {attr2: &#039;value_attr2&#039;, name: &#039;Node 1&#039;})</td><td style=\"text-align:left\">(_4:Node_type_1 {name: &#039;Node 2&#039;})</td></tr></table>"
      ],
      "text/plain": [
       " n1                                                      | n2                                \n",
       "---------------------------------------------------------|-----------------------------------\n",
       " (_3:Node_type_1 {attr2: 'value_attr2', name: 'Node 1'}) | (_4:Node_type_1 {name: 'Node 2'}) "
      ]
     },
     "execution_count": 29,
     "metadata": {},
     "output_type": "execute_result"
    }
   ],
   "source": [
    "tx.run('MATCH (n1)-[r:Edge_A]->(n2) RETURN n1,n2 ').to_table()"
   ]
  },
  {
   "cell_type": "code",
   "execution_count": 30,
   "metadata": {},
   "outputs": [
    {
     "data": {
      "text/plain": [
       "py2neo.data.Table"
      ]
     },
     "execution_count": 30,
     "metadata": {},
     "output_type": "execute_result"
    }
   ],
   "source": [
    "type(tx.run('MATCH (n1)-[r:Edge_A]->(n2) RETURN n1,n2 ').to_table())"
   ]
  },
  {
   "cell_type": "code",
   "execution_count": 31,
   "metadata": {},
   "outputs": [],
   "source": [
    "# return py2neo node"
   ]
  },
  {
   "cell_type": "code",
   "execution_count": 32,
   "metadata": {},
   "outputs": [
    {
     "data": {
      "text/plain": [
       "(_3:Node_type_1 {attr2: 'value_attr2', name: 'Node 1'})"
      ]
     },
     "execution_count": 32,
     "metadata": {},
     "output_type": "execute_result"
    }
   ],
   "source": [
    "tx.evaluate('MATCH (n1)-[r:Edge_A]->(n2) RETURN n1,n2')"
   ]
  },
  {
   "cell_type": "code",
   "execution_count": 33,
   "metadata": {},
   "outputs": [
    {
     "data": {
      "text/plain": [
       "py2neo.data.Node"
      ]
     },
     "execution_count": 33,
     "metadata": {},
     "output_type": "execute_result"
    }
   ],
   "source": [
    "type(tx.evaluate('MATCH (n1)-[r:Edge_A]->(n2) RETURN n1,n2'))"
   ]
  },
  {
   "cell_type": "code",
   "execution_count": 34,
   "metadata": {},
   "outputs": [],
   "source": [
    "# return info like list"
   ]
  },
  {
   "cell_type": "code",
   "execution_count": 35,
   "metadata": {},
   "outputs": [
    {
     "data": {
      "text/plain": [
       "[{'n1': (_3:Node_type_1 {attr2: 'value_attr2', name: 'Node 1'}),\n",
       "  'n2': (_4:Node_type_1 {name: 'Node 2'})}]"
      ]
     },
     "execution_count": 35,
     "metadata": {},
     "output_type": "execute_result"
    }
   ],
   "source": [
    "tx.run('MATCH (n1)-[r:Edge_A]->(n2) RETURN n1,n2').data()"
   ]
  },
  {
   "cell_type": "code",
   "execution_count": 36,
   "metadata": {},
   "outputs": [
    {
     "data": {
      "text/plain": [
       "list"
      ]
     },
     "execution_count": 36,
     "metadata": {},
     "output_type": "execute_result"
    }
   ],
   "source": [
    "type(tx.run('MATCH (n1)-[r:Edge_A]->(n2) RETURN n1,n2').data())"
   ]
  },
  {
   "cell_type": "code",
   "execution_count": 37,
   "metadata": {},
   "outputs": [
    {
     "data": {
      "text/html": [
       "<div>\n",
       "<style scoped>\n",
       "    .dataframe tbody tr th:only-of-type {\n",
       "        vertical-align: middle;\n",
       "    }\n",
       "\n",
       "    .dataframe tbody tr th {\n",
       "        vertical-align: top;\n",
       "    }\n",
       "\n",
       "    .dataframe thead th {\n",
       "        text-align: right;\n",
       "    }\n",
       "</style>\n",
       "<table border=\"1\" class=\"dataframe\">\n",
       "  <thead>\n",
       "    <tr style=\"text-align: right;\">\n",
       "      <th></th>\n",
       "      <th>n1.name</th>\n",
       "      <th>n1.attr2</th>\n",
       "      <th>n2.name</th>\n",
       "    </tr>\n",
       "  </thead>\n",
       "  <tbody>\n",
       "    <tr>\n",
       "      <th>0</th>\n",
       "      <td>Node 1</td>\n",
       "      <td>value_attr2</td>\n",
       "      <td>Node 2</td>\n",
       "    </tr>\n",
       "  </tbody>\n",
       "</table>\n",
       "</div>"
      ],
      "text/plain": [
       "  n1.name     n1.attr2 n2.name\n",
       "0  Node 1  value_attr2  Node 2"
      ]
     },
     "execution_count": 37,
     "metadata": {},
     "output_type": "execute_result"
    }
   ],
   "source": [
    "pd.DataFrame(graph.run('MATCH (n1)-[r:Edge_A]->(n2) RETURN n1.name, n1.attr2,n2.name').data())"
   ]
  },
  {
   "cell_type": "code",
   "execution_count": 38,
   "metadata": {},
   "outputs": [],
   "source": [
    "# Keys in a py2neo table"
   ]
  },
  {
   "cell_type": "code",
   "execution_count": 39,
   "metadata": {},
   "outputs": [
    {
     "data": {
      "text/plain": [
       "['n1', 'n2']"
      ]
     },
     "execution_count": 39,
     "metadata": {},
     "output_type": "execute_result"
    }
   ],
   "source": [
    "graph.run('MATCH (n1)-[r:Edge_A]->(n2) RETURN n1,n2').to_table().keys()"
   ]
  },
  {
   "cell_type": "code",
   "execution_count": 40,
   "metadata": {},
   "outputs": [
    {
     "data": {
      "text/plain": [
       "list"
      ]
     },
     "execution_count": 40,
     "metadata": {},
     "output_type": "execute_result"
    }
   ],
   "source": [
    "type(graph.run('MATCH (n1)-[r:Edge_A]->(n2) RETURN n1,n2').to_table().keys())"
   ]
  },
  {
   "cell_type": "code",
   "execution_count": null,
   "metadata": {},
   "outputs": [],
   "source": []
  },
  {
   "cell_type": "code",
   "execution_count": null,
   "metadata": {},
   "outputs": [],
   "source": []
  },
  {
   "cell_type": "code",
   "execution_count": null,
   "metadata": {},
   "outputs": [],
   "source": []
  },
  {
   "cell_type": "code",
   "execution_count": null,
   "metadata": {},
   "outputs": [],
   "source": []
  },
  {
   "cell_type": "code",
   "execution_count": null,
   "metadata": {},
   "outputs": [],
   "source": []
  }
 ],
 "metadata": {
  "kernelspec": {
   "display_name": "Python 3",
   "language": "python",
   "name": "python3"
  },
  "language_info": {
   "codemirror_mode": {
    "name": "ipython",
    "version": 3
   },
   "file_extension": ".py",
   "mimetype": "text/x-python",
   "name": "python",
   "nbconvert_exporter": "python",
   "pygments_lexer": "ipython3",
   "version": "3.7.5"
  }
 },
 "nbformat": 4,
 "nbformat_minor": 4
}
